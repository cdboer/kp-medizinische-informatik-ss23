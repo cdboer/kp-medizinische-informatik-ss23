{
 "cells": [
  {
   "attachments": {},
   "cell_type": "markdown",
   "metadata": {},
   "source": [
    "# Exploratory Data Analysis - MIMIC-IV Dataset in PostgreSQL"
   ]
  },
  {
   "attachments": {},
   "cell_type": "markdown",
   "metadata": {},
   "source": [
    "The notebook has been implemented using Python 3.10.11.  \n",
    "The MIMIC-IV v2.2 dataset has been loaded into PostgreSQL server running PostgreSQL 15.2 (Ubuntu 15.2-1.pgdg22.04+1).  \n",
    "We suggest creating a virtual environment for this notebook.  \n",
    "You need to install the following packages to run this notebook:\n",
    "\n",
    "| Package Name | License                                                                                                                 | Documentation                           |\n",
    "|--------------|-------------------------------------------------------------------------------------------------------------------------|-----------------------------------------|\n",
    "| psycopg2     | [![License: LGPL v3](https://img.shields.io/badge/License-LGPL_v3-blue.svg)](https://www.gnu.org/licenses/lgpl-3.0)     | [Docs](https://www.psycopg.org/)        |\n",
    "| pandas       | [![License](https://img.shields.io/badge/License-BSD_3--Clause-blue.svg)](https://opensource.org/licenses/BSD-3-Clause) | [Docs](https://pandas.pydata.org/)      |\n",
    "| numpy        | [![License](https://img.shields.io/badge/License-BSD_3--Clause-blue.svg)](https://opensource.org/licenses/BSD-3-Clause) | [Docs](https://numpy.org/)              |\n",
    "| seaborn      | [![License](https://img.shields.io/badge/License-BSD_3--Clause-blue.svg)](https://opensource.org/licenses/BSD-3-Clause) | [Docs](https://seaborn.pydata.org/)     |\n",
    "| scipy        | [![License](https://img.shields.io/badge/License-BSD_3--Clause-blue.svg)](https://opensource.org/licenses/BSD-3-Clause) | [Docs](https://scipy.org/)              |\n",
    "| tomli        | [![License: MIT](https://img.shields.io/badge/License-MIT-blue.svg)](https://opensource.org/licenses/MIT)               | [Docs](https://github.com/hukkin/tomli) |\n",
    "| tqdm         | [![License](https://img.shields.io/pypi/l/tqdm.svg)](https://github.com/tqdm/tqdm/blob/master/LICENCE)                  | [Docs](https://tqdm.github.io/)         |\n",
    "| matplotlib   | [(BSD-compatible, PSF-based)](https://matplotlib.org/stable/users/project/license.html)                                 | [Docs](https://matplotlib.org/)         |\n"
   ]
  },
  {
   "cell_type": "code",
   "execution_count": null,
   "metadata": {},
   "outputs": [],
   "source": [
    "\"\"\"Update pip and install requirements.\"\"\"\n",
    "%pip install --upgrade pip\n",
    "%pip install -r requirements.txt"
   ]
  },
  {
   "cell_type": "code",
   "execution_count": null,
   "metadata": {},
   "outputs": [],
   "source": [
    "\"\"\"Relevant imports for EDA; setup and styling.\"\"\"\n",
    "\n",
    "# data manipulation\n",
    "import numpy as np\n",
    "import pandas as pd\n",
    "\n",
    "# data vizualisation\n",
    "import seaborn as sns\n",
    "import matplotlib.pyplot as plt\n",
    "from matplotlib import rcParams\n",
    "from matplotlib.gridspec import GridSpec\n",
    "\n",
    "# tqdm for progress bars\n",
    "from tqdm import tqdm\n",
    "\n",
    "# default styling for plots\n",
    "plt.style.use(\"ggplot\")  # gnuplot style\n",
    "rcParams[\"figure.figsize\"] = 12, 6  # figure size\n",
    "from matplotlib.colors import ListedColormap\n",
    "\n",
    "# hls colormap for sns styled pie charts using matplotlib\n",
    "hls = ListedColormap(sns.color_palette(\"hls\").as_hex())"
   ]
  },
  {
   "cell_type": "code",
   "execution_count": null,
   "metadata": {},
   "outputs": [],
   "source": [
    "\"\"\"Functions for database connection, query execution, dataframe plotting.\"\"\"\n",
    "\n",
    "import tomli as toml\n",
    "import psycopg2 as pg\n",
    "from typing import Any\n",
    "\n",
    "\n",
    "def read_config(path: str) -> dict:\n",
    "    \"\"\"Read config file and return config dict.\"\"\"\n",
    "    with open(path, \"rb\") as f:\n",
    "        config = toml.load(f)[\"database\"]\n",
    "    return config\n",
    "\n",
    "\n",
    "def connect_to_db(config: dict) -> Any:\n",
    "    \"\"\"Connect to database and return connection object.\"\"\"\n",
    "    conn = pg.connect(**config)\n",
    "    cur = conn.cursor()\n",
    "    return conn, cur\n",
    "\n",
    "\n",
    "def read_sql(path: str) -> str:\n",
    "    \"\"\"Read SQL file and returns string\"\"\"\n",
    "    with open(path, \"r\") as f:\n",
    "        sql = f.read()\n",
    "    return sql\n",
    "\n",
    "\n",
    "def sql_to_df(path: str, params: dict = None) -> pd.DataFrame:\n",
    "    \"\"\"Read SQL file, execute query and return pandas DataFrame.\n",
    "    \n",
    "    Optionally, pass parameters to query using the params dict.\n",
    "    \"\"\"\n",
    "    if params is None:\n",
    "        params = {}\n",
    "    conn, cur = connect_to_db(read_config(\"./config.toml\"))\n",
    "    cur.execute(read_sql(path), params)\n",
    "    df = pd.DataFrame(cur.fetchall(), columns=[desc[0] for desc in cur.description])\n",
    "    conn.close()\n",
    "    return df\n",
    "\n",
    "\n",
    "def plot_corr_matrix(\n",
    "    df: pd.DataFrame,\n",
    "    method: str = \"pearson\",\n",
    "    title: str=\"\",\n",
    "    figsize=(10, 5),\n",
    "    linewidth=0.3,\n",
    "    fmt=\".2f\",\n",
    "    annot_kws={\"size\": 10},\n",
    "    cmap=\"Spectral_r\",\n",
    "    cbar=True,\n",
    "    ax=None,\n",
    "    cbar_kws={\"shrink\": 0.8},\n",
    ") -> None:\n",
    "    \"\"\"Plot heatmap of correlation matrix.\"\"\"\n",
    "    # set figure size\n",
    "    if ax is None:\n",
    "        plt.subplots(figsize=figsize)\n",
    "    corr = df.corr(method)\n",
    "    sns.heatmap(\n",
    "        corr,\n",
    "        cbar=cbar,  # show color bar? yes/no\n",
    "        annot=True,  # show numbers in cells? yes/no\n",
    "        square=True,  # square cells? yes/no\n",
    "        linewidths=linewidth,  # linewidth between cells\n",
    "        fmt=fmt,  # precision\n",
    "        annot_kws=annot_kws,  # size of numbers in cells\n",
    "        yticklabels=df.columns,  # y-axis labels\n",
    "        xticklabels=df.columns,  # x-axis labels\n",
    "        cmap=cmap,  # color palette\n",
    "        ax=ax,  # axes object\n",
    "        cbar_kws=cbar_kws,  # shrink color bar\n",
    "    )\n",
    "    if title:\n",
    "        plt.title(title)\n",
    "    if ax is None:\n",
    "        plt.show()\n",
    "\n",
    "\n",
    "def plot_boxplot_grid(df: pd.DataFrame, target: str) -> None:\n",
    "    \"\"\"Plot boxplots of multiple columns against a single target variable.\"\"\"\n",
    "    # calculate number of rows and columns\n",
    "    n_cols = int(np.ceil(np.sqrt(len(df.columns) - 1)))\n",
    "    n_rows = int(np.ceil((len(df.columns) - 1) / n_cols))\n",
    "    # create figure and axes\n",
    "    fig, axes = plt.subplots(\n",
    "        nrows=n_rows, ncols=n_cols, figsize=(n_cols * 6, n_rows * 5)\n",
    "    )\n",
    "    # iterate over columns, rows and create boxplots\n",
    "    for col, ax in zip(df.columns.drop(target), axes.flatten()):\n",
    "        sns.boxplot(x=target, y=col, data=df, ax=ax)\n",
    "        # set title to column name vs. target\n",
    "        ax.set_title(f\"{col} vs. {target}\")\n",
    "    plt.show()\n",
    "\n",
    "\n",
    "def plot_corr_matrix_diff(\n",
    "    df_one: pd.DataFrame,\n",
    "    df_two: pd.DataFrame,\n",
    "    method: str = \"pearson\",\n",
    "    figsize=(10, 5),\n",
    "    cmap=\"vlag\",\n",
    "    title=\"\",\n",
    "    ax=None,\n",
    ") -> None:\n",
    "    \"\"\"Plot heatmap of difference of correlation matrices.\"\"\"\n",
    "    # calculate difference of correlation matrices\n",
    "    corr_diff = df_one.corr(method) - df_two.corr(method)\n",
    "    # plot heatmap\n",
    "    plt.subplots(figsize=figsize)\n",
    "    # draw arrows in cells according to correlation difference?\n",
    "    sns.heatmap(\n",
    "        corr_diff,\n",
    "        annot=True,\n",
    "        annot_kws={\"size\": 10},\n",
    "        cbar=True,\n",
    "        cmap=cmap,\n",
    "        fmt=\".2f\",\n",
    "        square=True,\n",
    "        center=0,\n",
    "        ax=ax,\n",
    "    )\n",
    "    plt.title(title)\n",
    "    if ax is None:\n",
    "        plt.show()\n",
    "\n",
    "\n",
    "def plot_pie_chart(df, col=\"race\", title=\"\", ax=None, cmap=hls, explode=.1):\n",
    "    \"\"\"Plot pie chart for a given column in a dataframe.\"\"\"\n",
    "    explode = [explode] * len(df[col].value_counts())\n",
    "    df[col].value_counts().plot.pie(\n",
    "        shadow=True,\n",
    "        autopct=\"%1.1f%%\",\n",
    "        startangle=90,\n",
    "        title=title,\n",
    "        cmap=cmap,\n",
    "        ax=ax,\n",
    "        labeldistance=1.1,\n",
    "        pctdistance=0.5,\n",
    "        explode=explode,\n",
    "    )\n",
    "    if ax is None:\n",
    "        plt.show()"
   ]
  },
  {
   "attachments": {},
   "cell_type": "markdown",
   "metadata": {},
   "source": [
    "### Patient Age Distribution - General Hospital Population"
   ]
  },
  {
   "cell_type": "code",
   "execution_count": null,
   "metadata": {},
   "outputs": [],
   "source": [
    "gen_pop_age = sql_to_df(\"./sql/demographics_age_patients.sql\")"
   ]
  },
  {
   "cell_type": "code",
   "execution_count": null,
   "metadata": {},
   "outputs": [],
   "source": [
    "fig, axes = plt.subplots(ncols=2, figsize=(18, 6))\n",
    "fig.suptitle(\"Age Distribution of Hospital Patients\", fontsize=16)\n",
    "# create color palette\n",
    "palette = dict(zip([\"F\", \"M\"], sns.color_palette()))\n",
    "# plot histograms\n",
    "a1 = sns.histplot(\n",
    "    data=gen_pop_age,\n",
    "    x=\"age\",\n",
    "    hue=\"gender\",\n",
    "    kde=True,\n",
    "    multiple=\"layer\",\n",
    "    ax=axes[0],\n",
    "    palette=palette,\n",
    ")\n",
    "a2 = sns.histplot(\n",
    "    data=gen_pop_age,\n",
    "    x=\"age\",\n",
    "    hue=\"gender\",\n",
    "    multiple=\"fill\",\n",
    "    ax=axes[1],\n",
    "    palette=palette,\n",
    "    stat=\"percent\",\n",
    ")\n",
    "# set title, x- and y-labels for subplots\n",
    "a1.set(xlabel=\"Age\", ylabel=\"Count\", title=\"Age Distribution\")\n",
    "a2.set(xlabel=\"Age\", ylabel=\"Percent\", title=\"Gender Distribution\")\n",
    "# add labels to bars\n",
    "# for container in a1.containers:\n",
    "# a1.bar_label(container)"
   ]
  },
  {
   "attachments": {},
   "cell_type": "markdown",
   "metadata": {},
   "source": [
    "### Patient Age Distribution - ICU Population"
   ]
  },
  {
   "cell_type": "code",
   "execution_count": null,
   "metadata": {},
   "outputs": [],
   "source": [
    "icu_pop_age = sql_to_df(\"./sql/demographics_age_icu.sql\")"
   ]
  },
  {
   "cell_type": "code",
   "execution_count": null,
   "metadata": {},
   "outputs": [],
   "source": [
    "fig, axes = plt.subplots(ncols=2, figsize=(18, 6), sharex=True)\n",
    "# set title\n",
    "fig.suptitle(\"Age Distribution of Patients in ICU\", fontsize=16)\n",
    "# create color palette\n",
    "palette = dict(zip([\"F\", \"M\"], sns.color_palette()))\n",
    "# plot histograms\n",
    "a1 = sns.histplot(\n",
    "    data=icu_pop_age.copy(),\n",
    "    x=\"age\",\n",
    "    hue=\"gender\",\n",
    "    kde=True,\n",
    "    multiple=\"layer\",\n",
    "    ax=axes[0],\n",
    "    palette=palette,\n",
    ")\n",
    "a2 = sns.histplot(\n",
    "    data=icu_pop_age.copy(),\n",
    "    x=\"age\",\n",
    "    hue=\"gender\",\n",
    "    multiple=\"fill\",\n",
    "    ax=axes[1],\n",
    "    palette=palette,\n",
    "    stat=\"percent\",\n",
    ")\n",
    "# set title, x- and y-labels for subplots\n",
    "a1.set(xlabel=\"Age\", ylabel=\"Count\", title=\"Age Distribution\")\n",
    "a2.set(xlabel=\"Age\", ylabel=\"Percent\", title=\"Gender Distribution\")"
   ]
  },
  {
   "attachments": {},
   "cell_type": "markdown",
   "metadata": {},
   "source": [
    "### Age Distribution of Patients with Sepsis-3"
   ]
  },
  {
   "cell_type": "code",
   "execution_count": null,
   "metadata": {},
   "outputs": [],
   "source": [
    "sepsis_pop_age = sql_to_df(\"./sql/demographics_age_sepsis.sql\")"
   ]
  },
  {
   "cell_type": "code",
   "execution_count": null,
   "metadata": {},
   "outputs": [],
   "source": [
    "# create color palette\n",
    "palette = dict(zip([\"F\", \"M\"], sns.color_palette()))\n",
    "# plot histograms\n",
    "g = sns.displot(\n",
    "    sepsis_pop_age,\n",
    "    x=\"age\",\n",
    "    col=\"sepsis\",\n",
    "    hue=\"gender\",\n",
    "    facet_kws=dict(margin_titles=True),\n",
    "    binwidth=2,\n",
    "    height=6,\n",
    "    kde=True,\n",
    "    palette=palette,\n",
    ")\n",
    "# set title\n",
    "g.set_titles(col_template=\"Sepsis={col_name}\")\n",
    "g.fig.subplots_adjust(top=0.9)\n",
    "g.fig.suptitle(\"Age Distribution of Patients with and without Sepsis\", fontsize=16)"
   ]
  },
  {
   "attachments": {},
   "cell_type": "markdown",
   "metadata": {},
   "source": [
    "### General Demographics"
   ]
  },
  {
   "cell_type": "code",
   "execution_count": null,
   "metadata": {},
   "outputs": [],
   "source": [
    "demographics = sql_to_df(\"./sql/demographics_general.sql\")"
   ]
  },
  {
   "cell_type": "code",
   "execution_count": null,
   "metadata": {},
   "outputs": [],
   "source": [
    "# TODO: correlate categorical demographics with sepsis target\n",
    "# this includes: ethnicity, marital status, language, (pre-conditions?), (age groups?)"
   ]
  },
  {
   "attachments": {},
   "cell_type": "markdown",
   "metadata": {},
   "source": [
    "### Ethnicity of Hospital Patients"
   ]
  },
  {
   "cell_type": "code",
   "execution_count": null,
   "metadata": {},
   "outputs": [],
   "source": [
    "asian_map = {\n",
    "    \"ASIAN\": \"Asian\",\n",
    "    \"ASIAN - ASIAN INDIAN\": \"Asian\",\n",
    "    \"ASIAN - CHINESE\": \"Asian\",\n",
    "    \"ASIAN - KOREAN\": \"Asian\",\n",
    "    \"ASIAN - SOUTH EAST ASIAN\": \"Asian\",\n",
    "}\n",
    "black_map = {\n",
    "    \"BLACK\": \"Black\",\n",
    "    \"BLACK/AFRICAN AMERICAN\": \"Black\",\n",
    "    \"BLACK/AFRICAN\": \"Black\",\n",
    "    \"BLACK/CAPE VERDEAN\": \"Black\",\n",
    "    \"BLACK/CARIBBEAN ISLAND\": \"Black\",\n",
    "    \"BLACK/HAITIAN\": \"Black\",\n",
    "}\n",
    "white_map = {\n",
    "    \"WHITE\": \"White\",\n",
    "    \"WHITE - BRAZILIAN\": \"White\",\n",
    "    \"WHITE - EASTERN EUROPEAN\": \"White\",\n",
    "    \"WHITE - OTHER EUROPEAN\": \"White\",\n",
    "    \"WHITE - RUSSIAN\": \"White\",\n",
    "}\n",
    "hispanic_map = {\n",
    "    \"HISPANIC\": \"Hispanic\",\n",
    "    \"HISPANIC/LATINO - CENTRAL AMERICAN\": \"Hispanic\",\n",
    "    \"HISPANIC/LATINO - COLOMBIAN\": \"Hispanic\",\n",
    "    \"HISPANIC/LATINO - CUBAN\": \"Hispanic\",\n",
    "    \"HISPANIC/LATINO - DOMINICAN\": \"Hispanic\",\n",
    "    \"HISPANIC/LATINO - GUATEMALAN\": \"Hispanic\",\n",
    "    \"HISPANIC/LATINO - HONDURAN\": \"Hispanic\",\n",
    "    \"HISPANIC/LATINO - MEXICAN\": \"Hispanic\",\n",
    "    \"HISPANIC/LATINO - PUERTO RICAN\": \"Hispanic\",\n",
    "    \"HISPANIC/LATINO - SALVADORAN\": \"Hispanic\",\n",
    "    \"HISPANIC OR LATINO\": \"Hispanic\",\n",
    "    \"SOUTH AMERICAN\": \"Hispanic\",\n",
    "}\n",
    "other_map = {\n",
    "    \"OTHER\": \"Other\",\n",
    "    \"PORGTUGUESE\": \"Other\",\n",
    "    \"MULTIPLE RAACE/ETHNICITY\": \"Other\",\n",
    "    \"AMERICAN INDIAN/ALASKA NATIVE\": \"Other\",\n",
    "}\n",
    "unknown_map = {\n",
    "    \"UNABLE TO OBTAIN\": \"Unknown\",\n",
    "    \"UNKNOWN\": \"Unknown\",\n",
    "    \"PATIENT DECLINED TO ANSWER\": \"Unknown\",\n",
    "}\n",
    "all_map = asian_map | black_map | white_map | hispanic_map | other_map | unknown_map"
   ]
  },
  {
   "cell_type": "code",
   "execution_count": null,
   "metadata": {},
   "outputs": [],
   "source": [
    "# run query\n",
    "df = sql_to_df(\"./sql/race.sql\")\n",
    "# apply general ethnicity mapping\n",
    "df[\"mapped_race\"] = df[\"race\"].map(all_map)"
   ]
  },
  {
   "cell_type": "code",
   "execution_count": null,
   "metadata": {},
   "outputs": [],
   "source": [
    "ax = sns.histplot(data=df, x=\"mapped_race\", hue=\"gender\", multiple=\"dodge\")\n",
    "# add bar labels\n",
    "for container in ax.containers:\n",
    "    ax.bar_label(container, rotation=90)\n",
    "# rotate x-tick labels\n",
    "plt.xticks(rotation=90)"
   ]
  },
  {
   "cell_type": "code",
   "execution_count": null,
   "metadata": {},
   "outputs": [],
   "source": [
    "from matplotlib.gridspec import GridSpec\n",
    "\n",
    "asian = df[df[\"race\"].isin(asian_map)]\n",
    "black = df[df[\"race\"].isin(black_map)]\n",
    "white = df[df[\"race\"].isin(white_map)]\n",
    "hispanic = df[df[\"race\"].isin(hispanic_map)]\n",
    "other = df[df[\"race\"].isin(other_map)]\n",
    "unknown = df[df[\"race\"].isin(unknown_map)]\n",
    "\n",
    "fig = plt.figure(figsize=(20, 20))\n",
    "gs = GridSpec(3, 3, figure=fig)\n",
    "\n",
    "ax1 = fig.add_subplot(gs[0, :])\n",
    "ax2 = fig.add_subplot(gs[1, 0])\n",
    "ax3 = fig.add_subplot(gs[1, 1])\n",
    "ax4 = fig.add_subplot(gs[1, 2])\n",
    "ax5 = fig.add_subplot(gs[2, 0])\n",
    "ax6 = fig.add_subplot(gs[2, 1])\n",
    "ax7 = fig.add_subplot(gs[2, 2])\n",
    "\n",
    "plot_pie_chart(df, \"mapped_race\", title=\"All Patients\", ax=ax1)\n",
    "plot_pie_chart(asian, title=\"Asian\", ax=ax2, explode=0.05)\n",
    "plot_pie_chart(black, title=\"Black\", ax=ax3, explode=0.05)\n",
    "plot_pie_chart(white, title=\"White\", ax=ax4, explode=0.05)\n",
    "plot_pie_chart(hispanic, title=\"Hispanic\", ax=ax5, explode=0.05)\n",
    "plot_pie_chart(other, title=\"Other\", ax=ax6, explode=0.05)\n",
    "plot_pie_chart(unknown, title=\"Unknown\", ax=ax7, explode=0.05)"
   ]
  },
  {
   "cell_type": "code",
   "execution_count": null,
   "metadata": {},
   "outputs": [],
   "source": [
    "# create color palette\n",
    "palette = dict(zip([\"F\", \"M\"], sns.color_palette()))\n",
    "# plot histograms\n",
    "g = sns.displot(\n",
    "    df,\n",
    "    x=\"race\",\n",
    "    col=\"sepsis\",\n",
    "    hue=\"gender\",\n",
    "    facet_kws=dict(margin_titles=True),\n",
    "    binwidth=2,\n",
    "    height=6,\n",
    "    kde=True,\n",
    "    palette=palette,\n",
    ")\n",
    "g.set_titles(col_template=\"Sepsis={col_name}\")\n",
    "g.fig.subplots_adjust(top=0.9)\n",
    "g.fig.suptitle(\"Ethnicity\", fontsize=16)\n",
    "# rotate x-tick labels\n",
    "for ax in g.axes.flat:\n",
    "    ax.set_xticklabels(ax.get_xticklabels(), rotation=90)"
   ]
  },
  {
   "attachments": {},
   "cell_type": "markdown",
   "metadata": {},
   "source": [
    "#### Demographics in ICU"
   ]
  },
  {
   "cell_type": "code",
   "execution_count": null,
   "metadata": {},
   "outputs": [],
   "source": [
    "\n",
    "# run icu query\n",
    "dfICU = sql_to_df(\"./sql/race_ICU.sql\")\n",
    "dfICU[\"mapped_race\"] = df[\"race\"].map(all_map)"
   ]
  },
  {
   "cell_type": "code",
   "execution_count": null,
   "metadata": {},
   "outputs": [],
   "source": [
    "\n",
    "ax = sns.histplot(data=dfICU, x=\"mapped_race\", hue=\"gender\", multiple=\"dodge\")\n",
    "#add bar labels\n",
    "for container in ax.containers:\n",
    "    ax.bar_label(container, rotation=90)\n",
    "# rotate x-tick labels\n",
    "plt.xticks(rotation=90)"
   ]
  },
  {
   "cell_type": "code",
   "execution_count": null,
   "metadata": {},
   "outputs": [],
   "source": [
    "from matplotlib.gridspec import GridSpec\n",
    "\n",
    "asian = dfICU[dfICU[\"race\"].isin(asian_map)]\n",
    "black = dfICU[dfICU[\"race\"].isin(black_map)]\n",
    "white = dfICU[dfICU[\"race\"].isin(white_map)]\n",
    "hispanic = dfICU[dfICU[\"race\"].isin(hispanic_map)]\n",
    "other = dfICU[dfICU[\"race\"].isin(other_map)]\n",
    "unknown = dfICU[dfICU[\"race\"].isin(unknown_map)]\n",
    "\n",
    "fig = plt.figure(figsize=(20, 20))\n",
    "gs = GridSpec(3, 3, figure=fig)\n",
    "\n",
    "ax1 = fig.add_subplot(gs[0, :])\n",
    "ax2 = fig.add_subplot(gs[1, 0])\n",
    "ax3 = fig.add_subplot(gs[1, 1])\n",
    "ax4 = fig.add_subplot(gs[1, 2])\n",
    "ax5 = fig.add_subplot(gs[2, 0])\n",
    "ax6 = fig.add_subplot(gs[2, 1])\n",
    "ax7 = fig.add_subplot(gs[2, 2])\n",
    "\n",
    "plot_pie_chart(dfICU, \"mapped_race\", title=\"ICU Patients\", ax=ax1)\n",
    "plot_pie_chart(asian, title=\"Asian\", ax=ax2, explode=0.05)\n",
    "plot_pie_chart(black, title=\"Black\", ax=ax3, explode=0.05)\n",
    "plot_pie_chart(white, title=\"White\", ax=ax4, explode=0.05)\n",
    "plot_pie_chart(hispanic, title=\"Hispanic\", ax=ax5, explode=0.05)\n",
    "plot_pie_chart(other, title=\"Other\", ax=ax6, explode=0.05)\n",
    "plot_pie_chart(unknown, title=\"Unknown\", ax=ax7, explode=0.05)"
   ]
  },
  {
   "cell_type": "code",
   "execution_count": null,
   "metadata": {},
   "outputs": [],
   "source": [
    "# create color palette\n",
    "palette = dict(zip([\"F\", \"M\"], sns.color_palette()))\n",
    "# plot histograms\n",
    "g = sns.displot(\n",
    "    dfICU,\n",
    "    x=\"race\",\n",
    "    col=\"sepsis\",\n",
    "    hue=\"gender\",\n",
    "    facet_kws=dict(margin_titles=True),\n",
    "    binwidth=2,\n",
    "    height=6,\n",
    "    kde=True,\n",
    "    palette=palette,\n",
    ")\n",
    "g.set_titles(col_template=\"Sepsis={col_name}\")\n",
    "g.fig.subplots_adjust(top=0.9)\n",
    "g.fig.suptitle(\"Ethnicity on ICU\", fontsize=16)\n",
    "# rotate x-tick labels\n",
    "for ax in g.axes.flat:\n",
    "    ax.set_xticklabels(ax.get_xticklabels(), rotation=90)"
   ]
  },
  {
   "attachments": {},
   "cell_type": "markdown",
   "metadata": {},
   "source": [
    "### Time to Infection - How long does it take for a patient to get infected after admission to the ICU?"
   ]
  },
  {
   "cell_type": "code",
   "execution_count": null,
   "metadata": {},
   "outputs": [],
   "source": [
    "tti = sql_to_df(\"./sql/time_to_infection.sql\")"
   ]
  },
  {
   "cell_type": "code",
   "execution_count": null,
   "metadata": {},
   "outputs": [],
   "source": [
    "graph = sns.boxplot(x=tti[\"time_to_infection\"])\n",
    "# set x-axis scale to log (symmetric log scale to include negative values)\n",
    "graph.set_xscale(\"symlog\")\n",
    "graph.tick_params(axis=\"x\", which=\"minor\", length=1)\n",
    "# add vertical lines for ICU admission and ICU stay length at 8, 24 and 72 hours\n",
    "graph.axvline(0, color=\"orange\", linestyle=\"--\")\n",
    "graph.axvline(8, color=\"green\", linestyle=\"--\")\n",
    "graph.axvline(24, color=\"green\", linestyle=\"--\")\n",
    "graph.axvline(72, color=\"green\", linestyle=\"--\")\n",
    "graph.text(\n",
    "    0.05, 0.48, \"ICU Admission\", va=\"bottom\", ha=\"left\", color=\"orange\", rotation=90\n",
    ")\n",
    "graph.text(\n",
    "    8.5, 0.48, \"8 hour ICU stay\", va=\"bottom\", ha=\"left\", color=\"green\", rotation=90\n",
    ")\n",
    "graph.text(\n",
    "    25.5, 0.48, \"24 hour ICU stay\", va=\"bottom\", ha=\"left\", color=\"green\", rotation=90\n",
    ")\n",
    "graph.text(\n",
    "    74.5, 0.48, \"72 hour ICU stay\", va=\"bottom\", ha=\"left\", color=\"green\", rotation=90\n",
    ")\n",
    "# add text box with summary statistics\n",
    "graph.text(\n",
    "    -35,\n",
    "    0.45,\n",
    "    tti[\"time_to_infection\"].describe().round(3).to_string(),\n",
    "    va=\"bottom\",\n",
    "    color=\"black\",\n",
    "    bbox=dict(facecolor=\"white\", alpha=0.5),\n",
    ")\n",
    "plt.title(\"Sepsis Onset Time for ICU Patients\")\n",
    "plt.xlabel(\"Time to Infection (hours, log scale)\")\n",
    "plt.show()"
   ]
  },
  {
   "cell_type": "code",
   "execution_count": null,
   "metadata": {},
   "outputs": [],
   "source": [
    "sns.histplot(data=tti, x=\"time_to_infection\", stat=\"percent\", cumulative=True, kde=True)\n",
    "sns.rugplot(data=tti, x=\"time_to_infection\", height=-0.02, clip_on=False, lw=1, alpha=0.5)\n",
    "# set title \n",
    "plt.xlabel(\"Time to Infection (hours)\")"
   ]
  },
  {
   "attachments": {},
   "cell_type": "markdown",
   "metadata": {},
   "source": [
    "#### Notes on Sepsis Onset Time\n",
    "\n",
    "The MIMIC-IV authors note the following in their sepsis3 concept:\n",
    "> As many variables used in SOFA are only collected in the ICU, this query can only define sepsis-3 onset within the ICU.\n",
    " \n",
    "This somewhat explains the distribution of sepsis-3 onset times in the figure above. The distribution of sepsis-3 onset times is heavily skewed towards the point of admission to the ICU. Patients that may already have sepsis upon admission to the ICU will only be identified as having sepsis using the sepsis-3 criteria once the SOFA relevant variables have been collected. This is usually within the first few hours of admission to the ICU. It appears that the majority of patients that develop sepsis in the ICU do so within the first 24 hours of admission. Some patients have a recorded onset time that is well before their admission to the ICU. This is likely due to the fact that for some patients SOFA score variables may have been collected in the ED or the ward. This is the case for 39 patients in total. 31408 patients experience their sepsis onset in the first 24 hours of their icu stay. The mean onset time is 6.9h."
   ]
  },
  {
   "attachments": {},
   "cell_type": "markdown",
   "metadata": {},
   "source": [
    "### Blood Gas Analysis - First 24 Hours in the ICU\n",
    "\n"
   ]
  },
  {
   "cell_type": "code",
   "execution_count": null,
   "metadata": {},
   "outputs": [],
   "source": [
    "bg_first_24h = sql_to_df(\"./sql/first_day_bg.sql\")"
   ]
  },
  {
   "cell_type": "code",
   "execution_count": null,
   "metadata": {},
   "outputs": [],
   "source": [
    "# filter for columns with max/min values\n",
    "bg_first_24h_min_max = bg_first_24h.filter(regex=\"(_max|_min|sepsis)$\")\n",
    "# plot correlation matrix\n",
    "plot_corr_matrix(\n",
    "    bg_first_24h_min_max,\n",
    "    title=\"Blood Gas Analysis Correlation Matrix - Max/Min [24h ICU]\",\n",
    "    figsize=(25, 20),\n",
    "    linewidth=0,\n",
    "    cbar=True,\n",
    "    cbar_kws={\"shrink\": 0.8},\n",
    ")\n",
    "# filter for columns with mean/std values\n",
    "bg_first_24h_mean_std = bg_first_24h.filter(regex=\"(_mean|_std|sepsis)$\")\n",
    "# plot correlation matrix\n",
    "plot_corr_matrix(\n",
    "    bg_first_24h_mean_std,\n",
    "    title=\"Blood Gas Analysis Correlation Matrix - Mean/Std [24h ICU]\",\n",
    "    figsize=(25, 20),\n",
    "    linewidth=0,\n",
    "    cbar=True,\n",
    "    cbar_kws={\"shrink\": 0.8},\n",
    ")"
   ]
  },
  {
   "attachments": {},
   "cell_type": "markdown",
   "metadata": {},
   "source": [
    "### Pre Septic Blood Gas Analysis - 8 Hours before Sepsis Onset\n",
    "\n",
    "For patients without sepsis, the measurement interval is from ICU admission time to ICU admission time +8 hours.\n",
    "This may or may not be a valid approach."
   ]
  },
  {
   "cell_type": "code",
   "execution_count": null,
   "metadata": {},
   "outputs": [],
   "source": [
    "# get blood gas analysis data for different time windows before sepsis onset\n",
    "bg_pre_septic_2h = sql_to_df(\"./sql/pre_septic_bg.sql\", {\"window_size_h\": 2})\n",
    "bg_pre_septic_4h = sql_to_df(\"./sql/pre_septic_bg.sql\", {\"window_size_h\": 4})\n",
    "bg_pre_septic_6h = sql_to_df(\"./sql/pre_septic_bg.sql\", {\"window_size_h\": 6})\n",
    "bg_pre_septic_8h = sql_to_df(\"./sql/pre_septic_bg.sql\", {\"window_size_h\": 8})"
   ]
  },
  {
   "cell_type": "code",
   "execution_count": null,
   "metadata": {},
   "outputs": [],
   "source": [
    "# filter for columns with max/min values\n",
    "bg_pre_septic_8h_min_max = bg_pre_septic_8h.filter(regex=\"(_max|_min|sepsis)$\")\n",
    "# plot correlation matrix\n",
    "plot_corr_matrix(\n",
    "    bg_pre_septic_8h_min_max,\n",
    "    title=\"Blood Gas Analysis Correlation Matrix - Min/Max [8h Pre-Septic]\",\n",
    "    figsize=(25, 20),\n",
    "    linewidth=0,\n",
    "    cbar=True,\n",
    ")\n",
    "# filter for columns with mean/std values\n",
    "bg_pre_septic_8h_mean_std = bg_pre_septic_8h.filter(regex=\"(_mean|_std|sepsis)$\")\n",
    "# plot correlation matrix\n",
    "plot_corr_matrix(\n",
    "    bg_pre_septic_8h_mean_std,\n",
    "    title=\"Blood Gas Analysis Correlation Matrix - Mean/Std [8h Pre-Septic]\",\n",
    "    figsize=(25, 20),\n",
    "    linewidth=0,\n",
    "    cbar=True,\n",
    ")"
   ]
  },
  {
   "cell_type": "code",
   "execution_count": null,
   "metadata": {},
   "outputs": [],
   "source": [
    "# calculate correlation matrices\n",
    "bg_corr_2h = bg_pre_septic_2h.corr().iloc[-1:]\n",
    "bg_corr_4h = bg_pre_septic_4h.corr().iloc[-1:]\n",
    "bg_corr_6h = bg_pre_septic_6h.corr().iloc[-1:]\n",
    "bg_corr_8h = bg_pre_septic_8h.corr().iloc[-1:]\n",
    "\n",
    "# add a column to record the time before sepsis onset\n",
    "bg_corr_2h[\"h_before_onset\"] = -2\n",
    "bg_corr_4h[\"h_before_onset\"] = -4\n",
    "bg_corr_6h[\"h_before_onset\"] = -6\n",
    "bg_corr_8h[\"h_before_onset\"] = -8\n",
    "\n",
    "concat = pd.concat([bg_corr_2h, bg_corr_4h, bg_corr_6h, bg_corr_8h])\n",
    "melted = concat.melt(id_vars=[\"sepsis\", \"h_before_onset\"], value_vars=concat.columns[:-2])\n",
    "\n",
    "grid = sns.relplot(\n",
    "    data=melted,\n",
    "    y=\"value\",\n",
    "    x=\"h_before_onset\",\n",
    "    col=\"variable\",\n",
    "    hue=\"sepsis\",\n",
    "    kind=\"line\",\n",
    "    col_wrap=11,\n",
    "    height=2.5,\n",
    "    facet_kws=dict(margin_titles=True),\n",
    "    marker=\"o\",\n",
    ")\n",
    "grid.set_titles(col_template=\"{col_name}\")\n",
    "grid.fig.tight_layout()\n",
    "grid.fig.suptitle(\"Correlation between Blood Gas Components and Sepsis Onset Time\", y=1.02, fontsize=16)\n",
    "\n",
    "# draw horizontal line at y=0\n",
    "for ax in grid.axes.flatten():\n",
    "    ax.axhline(0, color=\"green\", linestyle=\"--\")"
   ]
  },
  {
   "attachments": {},
   "cell_type": "markdown",
   "metadata": {},
   "source": [
    "### Vital Signs - 24 hours after ICU admission\n",
    "\n",
    "Technically its -6 to +24 hours after ICU admission. The first 6 hours are recorded because the first 6 hours are used to calculate the SOFA score."
   ]
  },
  {
   "cell_type": "code",
   "execution_count": null,
   "metadata": {},
   "outputs": [],
   "source": [
    "vs_first_24h = sql_to_df(\"./sql/first_day_vitalsign.sql\")"
   ]
  },
  {
   "cell_type": "code",
   "execution_count": null,
   "metadata": {},
   "outputs": [],
   "source": [
    "# filter for columns with max/min values\n",
    "vs_first_24h_min_max = vs_first_24h.filter(regex=\"(_max|_min|sepsis|height|age)$\")\n",
    "# plot correlation matrix\n",
    "plot_corr_matrix(\n",
    "    vs_first_24h_min_max,\n",
    "    title=\"Vital Signs Correlation Matrix - Min/Max [24h ICU]\",\n",
    "    figsize=(15, 10),\n",
    "    linewidth=0,\n",
    ")\n",
    "# filter for columns with mean/std values\n",
    "vs_first_24h_mean_std = vs_first_24h.filter(regex=\"(_mean|_std|sepsis|height|age)$\")\n",
    "# plot correlation matrix\n",
    "plot_corr_matrix(\n",
    "    vs_first_24h_mean_std,\n",
    "    title=\"Vital Signs Correlation Matrix - Mean/Std [24h ICU]\",\n",
    "    figsize=(15, 10),\n",
    "    linewidth=0,\n",
    ")"
   ]
  },
  {
   "attachments": {},
   "cell_type": "markdown",
   "metadata": {},
   "source": [
    "### Vital Signs - 2/4/6/8 hours before Sepsis Onset"
   ]
  },
  {
   "cell_type": "code",
   "execution_count": null,
   "metadata": {},
   "outputs": [],
   "source": [
    "vs_pre_septic_2h = sql_to_df(\"./sql/pre_septic_vitalsign.sql\", {\"window_size_h\": 2})\n",
    "vs_pre_septic_4h = sql_to_df(\"./sql/pre_septic_vitalsign.sql\", {\"window_size_h\": 4})\n",
    "vs_pre_septic_6h = sql_to_df(\"./sql/pre_septic_vitalsign.sql\", {\"window_size_h\": 6})\n",
    "vs_pre_septic_8h = sql_to_df(\"./sql/pre_septic_vitalsign.sql\", {\"window_size_h\": 8})"
   ]
  },
  {
   "cell_type": "code",
   "execution_count": null,
   "metadata": {},
   "outputs": [],
   "source": [
    "vs_pre_septic_8h_min_max = vs_pre_septic_8h.filter(regex=\"(_max|_min|sepsis|height|age)$\")\n",
    "# plot correlation matrices side by side\n",
    "plot_corr_matrix(\n",
    "    vs_pre_septic_8h_min_max,\n",
    "    title=\"Vital Signs Correlation Matrix - Max/Min [8h Pre-Septic]\",\n",
    "    figsize=(15, 10),\n",
    "    linewidth=0,\n",
    ")\n",
    "# filter for columns with mean/std values\n",
    "vs_pre_septic_8h_mean_std = vs_pre_septic_8h.filter(regex=\"(_mean|_std|sepsis|height|age)$\")\n",
    "# plot correlation matrix\n",
    "plot_corr_matrix(\n",
    "    vs_pre_septic_8h_mean_std,\n",
    "    title=\"Vital Signs Correlation Matrix - Mean/Std [8h Pre-Septic]\",\n",
    "    figsize=(15, 10),\n",
    "    linewidth=0,\n",
    ")"
   ]
  },
  {
   "cell_type": "code",
   "execution_count": null,
   "metadata": {},
   "outputs": [],
   "source": [
    "plot_corr_matrix_diff(\n",
    "    vs_first_24h_min_max,\n",
    "    vs_pre_septic_8h_min_max,\n",
    "    figsize=(15, 10),\n",
    "    title=\"Vital Sign Correlation Difference - Min/Max [24h ICU - 8h Pre-Septic]\",\n",
    ")\n",
    "plot_corr_matrix_diff(\n",
    "    vs_first_24h_mean_std,\n",
    "    vs_pre_septic_8h_mean_std,\n",
    "    figsize=(15, 10),\n",
    "    title=\"Vital Sign Correlation Difference - Mean/Std [24h ICU - 8h Pre-Septic]\",\n",
    ")"
   ]
  },
  {
   "cell_type": "code",
   "execution_count": null,
   "metadata": {},
   "outputs": [],
   "source": [
    "# create a dataframe that records the correlation between each vital sign and sepsis\n",
    "# use only the last row of the correlation matrix\n",
    "vs_corr_2h = vs_pre_septic_2h.corr().iloc[-1:]\n",
    "vs_corr_4h = vs_pre_septic_4h.corr().iloc[-1:]\n",
    "vs_corr_6h = vs_pre_septic_6h.corr().iloc[-1:]\n",
    "vs_corr_8h = vs_pre_septic_8h.corr().iloc[-1:]\n",
    "\n",
    "# add a column to record the time before sepsis onset\n",
    "vs_corr_2h[\"h_before_onset\"] = -2\n",
    "vs_corr_4h[\"h_before_onset\"] = -4\n",
    "vs_corr_6h[\"h_before_onset\"] = -6\n",
    "vs_corr_8h[\"h_before_onset\"] = -8\n",
    "\n",
    "# combine the dataframes into one, row-wise\n",
    "concat = pd.concat([vs_corr_2h, vs_corr_4h, vs_corr_6h, vs_corr_8h])\n",
    "melted = concat.melt(\n",
    "    id_vars=[\"sepsis\", \"h_before_onset\"], value_vars=concat.columns[:-2]\n",
    ")\n",
    "\n",
    "# plot as facetgrid\n",
    "grid = sns.relplot(\n",
    "    data=melted,\n",
    "    y=\"value\",\n",
    "    x=\"h_before_onset\",\n",
    "    col=\"variable\",\n",
    "    hue=\"sepsis\",\n",
    "    kind=\"line\",\n",
    "    col_wrap=10,\n",
    "    height=2.5,\n",
    "    marker=\"o\",\n",
    ")\n",
    "grid.set_titles(col_template=\"{col_name}\")\n",
    "grid.fig.suptitle(\n",
    "    \"Correlation between Blood Gas Components and Sepsis Onset Time\",\n",
    "    y=1.02,\n",
    "    fontsize=16,\n",
    ")\n",
    "grid.fig.tight_layout()\n",
    "\n",
    "# draw horizontal line at y=0\n",
    "for ax in grid.axes.flatten():\n",
    "    ax.axhline(0, color=\"green\", linestyle=\"--\")"
   ]
  },
  {
   "attachments": {},
   "cell_type": "markdown",
   "metadata": {},
   "source": [
    "### Lab Results"
   ]
  },
  {
   "cell_type": "code",
   "execution_count": null,
   "metadata": {},
   "outputs": [],
   "source": [
    "lr_first_24h = sql_to_df(\"./sql/first_day_lab.sql\")"
   ]
  },
  {
   "cell_type": "code",
   "execution_count": null,
   "metadata": {},
   "outputs": [],
   "source": [
    "# filter for columns with max/min values\n",
    "lr_first_24h_min_max = lr_first_24h.filter(regex=\"(_max|_min|sepsis)$\")\n",
    "# plot correlation matrix\n",
    "plot_corr_matrix(\n",
    "    lr_first_24h_min_max,\n",
    "    title=\"Lab Results Correlation Matrix - Min/Max [24h ICU]\",\n",
    "    figsize=(35, 30),\n",
    "    linewidth=0,\n",
    ")\n",
    "# filter for columns with mean/std values\n",
    "lr_first_24h_mean_std = lr_first_24h.filter(regex=\"(_mean|_std|sepsis)$\")\n",
    "# plot correlation matrix\n",
    "plot_corr_matrix(\n",
    "    lr_first_24h_mean_std,\n",
    "    title=\"Lab Results Correlation Matrix - Mean/Std [24h ICU]\",\n",
    "    figsize=(35, 30),\n",
    "    linewidth=0,\n",
    ")"
   ]
  },
  {
   "cell_type": "code",
   "execution_count": null,
   "metadata": {},
   "outputs": [],
   "source": [
    "lr_pre_septic_2h = sql_to_df(\"./sql/pre_septic_lab.sql\", {\"window_size_h\": 2})\n",
    "lr_pre_septic_4h = sql_to_df(\"./sql/pre_septic_lab.sql\", {\"window_size_h\": 4})\n",
    "lr_pre_septic_6h = sql_to_df(\"./sql/pre_septic_lab.sql\", {\"window_size_h\": 6})\n",
    "lr_pre_septic_8h = sql_to_df(\"./sql/pre_septic_lab.sql\", {\"window_size_h\": 8})"
   ]
  },
  {
   "cell_type": "code",
   "execution_count": null,
   "metadata": {},
   "outputs": [],
   "source": [
    "lr_pre_septic_8h_min_max = lr_pre_septic_8h.filter(regex=\"(_max|_min|sepsis)$\")\n",
    "\n",
    "plot_corr_matrix(\n",
    "    lr_pre_septic_8h_min_max,\n",
    "    title=\"Lab Results Correlation Matrix - Min/Max [8h Pre-Septic]\",\n",
    "    figsize=(35, 30),\n",
    "    linewidth=0,\n",
    ")\n",
    "\n",
    "lr_pre_septic_8h_mean_std = lr_pre_septic_8h.filter(regex=\"(_mean|_std|sepsis)$\")\n",
    "\n",
    "plot_corr_matrix(\n",
    "    lr_pre_septic_8h_mean_std,\n",
    "    title=\"Lab Results Correlation Matrix - Mean/Std [8h Pre-Septic]\",\n",
    "    figsize=(35, 30),\n",
    "    linewidth=0,\n",
    ")"
   ]
  },
  {
   "cell_type": "code",
   "execution_count": null,
   "metadata": {},
   "outputs": [],
   "source": [
    "plot_corr_matrix_diff(\n",
    "    lr_first_24h_min_max,\n",
    "    lr_pre_septic_8h_min_max,\n",
    "    figsize=(35, 30),\n",
    "    title=\"Lab Results Correlation Difference - Min/Max [24h ICU - 8h Pre-Septic]\",\n",
    ")\n",
    "plot_corr_matrix_diff(\n",
    "    lr_first_24h_mean_std,\n",
    "    lr_pre_septic_8h_mean_std,\n",
    "    figsize=(35, 30),\n",
    "    title=\"Lab Results Correlation Difference - Mean/Std [24h ICU - 8h Pre-Septic]\",\n",
    ")\n",
    "\n",
    "lr_pre_septic_6h_min_max = lr_pre_septic_6h.filter(regex=\"(_max|_min|sepsis)$\")\n",
    "plot_corr_matrix_diff(\n",
    "    lr_pre_septic_8h_min_max,\n",
    "    lr_pre_septic_6h_min_max,\n",
    "    figsize=(35, 30),\n",
    "    title=\"Lab Results Correlation Difference - Min/Max [8h Pre-Septic - 6h Pre-Septic]\",\n",
    ")"
   ]
  },
  {
   "cell_type": "code",
   "execution_count": null,
   "metadata": {},
   "outputs": [],
   "source": [
    "# create a dataframe that records the correlation between each vital sign and sepsis\n",
    "# use only the last row of the correlation matrix\n",
    "lr_corr_2h = lr_pre_septic_2h.corr().iloc[-1:]\n",
    "lr_corr_4h = lr_pre_septic_4h.corr().iloc[-1:]\n",
    "lr_corr_6h = lr_pre_septic_6h.corr().iloc[-1:]\n",
    "lr_corr_8h = lr_pre_septic_8h.corr().iloc[-1:]\n",
    "\n",
    "# add a column to record the time before sepsis onset\n",
    "lr_corr_2h[\"h_before_onset\"] = -2\n",
    "lr_corr_4h[\"h_before_onset\"] = -4\n",
    "lr_corr_6h[\"h_before_onset\"] = -6\n",
    "lr_corr_8h[\"h_before_onset\"] = -8\n",
    "\n",
    "# combine the dataframes into one, row-wise\n",
    "concat = pd.concat([lr_corr_2h, lr_corr_4h, lr_corr_6h, lr_corr_8h])\n",
    "melted = concat.melt(\n",
    "    id_vars=[\"sepsis\", \"h_before_onset\"], value_vars=concat.columns[:-2]\n",
    ")\n",
    "\n",
    "# plot as facetgrid\n",
    "grid = sns.relplot(\n",
    "    data=melted,\n",
    "    x=\"h_before_onset\",\n",
    "    y=\"value\",\n",
    "    col=\"variable\",\n",
    "    kind=\"line\",\n",
    "    col_wrap=10,\n",
    "    height=2.5,\n",
    "    marker=\"o\",\n",
    ")\n",
    "grid.set_titles(col_template=\"{col_name}\")\n",
    "grid.fig.suptitle(\n",
    "    \"Correlation between Blood Gas Components and Sepsis Onset Time\",\n",
    "    y=1.02,\n",
    "    fontsize=16,\n",
    ")\n",
    "grid.fig.tight_layout()\n",
    "\n",
    "# draw horizontal line at y=0\n",
    "for ax in grid.axes.flatten():\n",
    "    ax.axhline(0, color=\"green\", linestyle=\"--\")"
   ]
  },
  {
   "attachments": {},
   "cell_type": "markdown",
   "metadata": {},
   "source": [
    "### Dialysis and Urine Output"
   ]
  },
  {
   "cell_type": "code",
   "execution_count": null,
   "metadata": {},
   "outputs": [],
   "source": [
    "df_dia = sql_to_df(\"./sql/dialysis_urine_corr.sql\")"
   ]
  },
  {
   "cell_type": "code",
   "execution_count": null,
   "metadata": {},
   "outputs": [],
   "source": [
    "plot_corr_matrix(\n",
    "    df_dia,\n",
    "    \"Dialysis and Urine Output - Correlation Matrix\",\n",
    "    figsize=(10, 5),\n",
    "    linewidth=0,\n",
    ")"
   ]
  },
  {
   "attachments": {},
   "cell_type": "markdown",
   "metadata": {},
   "source": [
    "### Glasgow Coma Scale (GCS)\n",
    "\n",
    "The Glasgow Coma Scale (GCS) is a neurological scale which aims to give a reliable and objective way of recording the conscious state of a person for initial as well as subsequent assessment. A patient is assessed against the criteria of the scale, and the resulting points give a patient score between 3 (indicating deep unconsciousness) and either 14 (original scale) or 15 (more widely used modified or revised scale). The coma scale has three parameters: eye response (4), verbal response (5) and motor response (6) which are summed up to give the final score. The three values separately as well as their sum are considered in the evaluation of the patient's condition.\n",
    "\n",
    "The MIMIC-IV concept table `first_day_gcs` contains the first day GCS score for patients in the ICU. Patients that are sedated are assigned a GCS score of 15. The authors of the concept recommend to use the last recorded GCS score before sedation for sedated patients (compare to SAPS II score). SAPS II is a severity score for ICU patients that is calculated based on the worst values for 12 physiological variables during the first 24 hours after admission. The GCS score is one of the 12 variables. Patients that receive ventilation through a tracheal tube are marked in the `gcs_unable` column."
   ]
  },
  {
   "cell_type": "code",
   "execution_count": null,
   "metadata": {},
   "outputs": [],
   "source": [
    "df = sql_to_df(\"./sql/pre_septic_gcs.sql\")"
   ]
  },
  {
   "cell_type": "code",
   "execution_count": null,
   "metadata": {},
   "outputs": [],
   "source": [
    "plot_corr_matrix(df, title=\"Correlation Matrix - Pre Septic Glasgow Coma Scale\", figsize=(20, 10), linewidth=0)"
   ]
  },
  {
   "attachments": {},
   "cell_type": "markdown",
   "metadata": {},
   "source": [
    "#### Notes on the GCS Heatmap\n",
    "The only positive correlation is between the `gcs_unable` column and the sepsis target variable. This is somewhat expected, as patients that are marked as unable are patients that receive ventilation through a tracheal tube. Ventilation is probably an indicator for the severity of the patients condition, as it is (probably) only necessary for more severe conditions. The other correlations will be negative, as the GCS score is a severity score. The lower the score, the more severe the condition. The gcs verbal subscore has the highest correlation between the GCS subscores and the sepsis target variable. \n",
    "\n",
    "Note that the query is skewed by design, since sedated patients receive a GCS of 15. This should be seen as a limitation of this specific query. The heatmap is still useful to get a general idea of the correlations between the GCS subscores and the sepsis target variable."
   ]
  },
  {
   "cell_type": "code",
   "execution_count": null,
   "metadata": {},
   "outputs": [],
   "source": [
    "# show distribution of gcs values\n",
    "sns.displot(df, x=\"gcs_total\", kind=\"kde\", hue=\"sepsis\", fill=True)"
   ]
  },
  {
   "attachments": {},
   "cell_type": "markdown",
   "metadata": {},
   "source": [
    "#### Notes on the Distribution of the GCS Score\n",
    "The distribution of the GCS score is skewed to the right. The majority of patients have a GCS score of 15, which is the maximum score. We can observe, that sepsis patients have a higher density of lower GCS scores than non-sepsis patients. The distribution itself follow a similar pattern between sepsis/non-sepsis patients. This leads to the assumption, that the distribution of the GCS score may not be a good indicator for sepsis."
   ]
  },
  {
   "attachments": {},
   "cell_type": "markdown",
   "metadata": {},
   "source": [
    "### Ventilation"
   ]
  },
  {
   "cell_type": "code",
   "execution_count": null,
   "metadata": {},
   "outputs": [],
   "source": [
    "df_ventilation = sql_to_df(\"./sql/ventilation_corr.sql\")"
   ]
  },
  {
   "cell_type": "code",
   "execution_count": null,
   "metadata": {},
   "outputs": [],
   "source": [
    "plot_corr_matrix(df_ventilation, title=\"Correlation Matrix - Ventilation\", method=\"pearson\")"
   ]
  },
  {
   "attachments": {},
   "cell_type": "markdown",
   "metadata": {},
   "source": [
    "#### Notes on the Ventilation Heatmap\n",
    "The GCS Heatmap contains a positive correlation between the `gcs_unable` column and the sepsis target variable. This heatmap shows a similar relation between the `non_invasive_vent` column aswell as the `invasive_vent` column and the sepsis target variable. This further corroborates the theory, that the `gcs_unable` column is actually just a correlation factor between ventilation and sepsis and has nothing to do with the actual GCS score.\n",
    "\n",
    "We should note the following limitations for the query used to generate this heatmap:\n",
    "- The query includes the whole ICU stay of the patient. This means that the patient may have been ventilated at some point during their ICU stay, but not necessarily during the first 24 hours.\n",
    "- As the query contains the whole ICU stay, the patient may have been non-invasively ventilated at some point and then invasively ventilated at a later point. \n",
    "- The sepsis onset time is not considered in the query. This means that the query does not consider the ventilation status of the patient at the time of sepsis onset. This may be a useful insight to have, as it may be an indicator for sepsis onset."
   ]
  },
  {
   "attachments": {},
   "cell_type": "markdown",
   "metadata": {},
   "source": [
    "### Patient Age Distribution"
   ]
  },
  {
   "cell_type": "code",
   "execution_count": null,
   "metadata": {},
   "outputs": [],
   "source": [
    "all_ages = sql_to_df(\"./sql/all_ages.sql\")"
   ]
  },
  {
   "cell_type": "code",
   "execution_count": null,
   "metadata": {},
   "outputs": [],
   "source": [
    "plt.plot(all_ages[0], all_ages[1])\n",
    "plt.title('Age of all patients')\n",
    "plt.xlabel('Age')\n",
    "plt.ylabel('Count')\n",
    "plt.show()"
   ]
  },
  {
   "cell_type": "code",
   "execution_count": null,
   "metadata": {},
   "outputs": [],
   "source": [
    "icu_ages = sql_to_df(\"./sql/all_icu_ages.sql\")"
   ]
  },
  {
   "cell_type": "code",
   "execution_count": null,
   "metadata": {},
   "outputs": [],
   "source": [
    "plt.plot(icu_ages[0], icu_ages[1])\n",
    "plt.title('Age of all ICU patients')\n",
    "plt.xlabel('Age')\n",
    "plt.ylabel('Count')\n",
    "plt.show()"
   ]
  }
 ],
 "metadata": {
  "kernelspec": {
   "display_name": "gitlab2prov-HvmS1tis",
   "language": "python",
   "name": "python3"
  },
  "language_info": {
   "codemirror_mode": {
    "name": "ipython",
    "version": 3
   },
   "file_extension": ".py",
   "mimetype": "text/x-python",
   "name": "python",
   "nbconvert_exporter": "python",
   "pygments_lexer": "ipython3",
   "version": "3.11.3"
  }
 },
 "nbformat": 4,
 "nbformat_minor": 2
}
